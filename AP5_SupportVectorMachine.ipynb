{
  "cells": [
    {
      "cell_type": "markdown",
      "metadata": {
        "id": "view-in-github",
        "colab_type": "text"
      },
      "source": [
        "<a href=\"https://colab.research.google.com/github/kennardmah/house-price-prediction/blob/main/AP5_SupportVectorMachine.ipynb\" target=\"_parent\"><img src=\"https://colab.research.google.com/assets/colab-badge.svg\" alt=\"Open In Colab\"/></a>"
      ]
    },
    {
      "cell_type": "code",
      "execution_count": 20,
      "metadata": {
        "id": "rTjlBHuVm_HL"
      },
      "outputs": [],
      "source": [
        "# import all libraries used\n",
        "import pandas as pd\n",
        "import numpy as np\n",
        "import matplotlib.pyplot as plt\n",
        "from sklearn.model_selection import train_test_split\n",
        "import seaborn as sns\n",
        "from sklearn.preprocessing import MinMaxScaler\n",
        "from sklearn.ensemble import RandomForestClassifier\n",
        "from sklearn.metrics import accuracy_score, precision_score, recall_score, confusion_matrix\n",
        "import sklearn.tree as tree\n",
        "import graphviz\n",
        "import pylab\n",
        "\n"
      ]
    },
    {
      "cell_type": "code",
      "execution_count": 21,
      "metadata": {
        "id": "o-jrHj4t9PYI"
      },
      "outputs": [],
      "source": [
        "# read original dataset and create dataframe object\n",
        "hdf = pd.read_csv('kc_house_data.csv')\n",
        "hdf = pd.DataFrame(hdf)"
      ]
    },
    {
      "cell_type": "code",
      "execution_count": 22,
      "metadata": {
        "colab": {
          "base_uri": "https://localhost:8080/"
        },
        "id": "x4QKeJ2aRkA3",
        "outputId": "6eb1943c-ff89-452f-833a-bbb0193b0f95"
      },
      "outputs": [
        {
          "output_type": "stream",
          "name": "stdout",
          "text": [
            "540088.1417665294\n"
          ]
        }
      ],
      "source": [
        "# remove variables we do not plan to use\n",
        "hdf = hdf.drop(columns=['id','date','zipcode'])\n",
        "\n",
        "meanPrice = hdf['price'].mean()\n",
        "print(meanPrice)\n",
        "\n",
        "# separate continous and categorical variables\n",
        "continuous_hdf = hdf[['price','bedrooms','bathrooms','sqft_living','sqft_lot','floors','sqft_above','sqft_basement','lat','long','sqft_living15','sqft_lot15']]\n",
        "categorical_hdf = hdf.drop(columns=['price','bedrooms','bathrooms','sqft_living','sqft_lot','floors','sqft_above','sqft_basement','lat','long','sqft_living15','sqft_lot15'])\n",
        "\n",
        "# restitch dataset but now with all continuous variables together\n",
        "hdf = pd.concat([continuous_hdf, categorical_hdf], axis=1)"
      ]
    },
    {
      "cell_type": "code",
      "execution_count": 23,
      "metadata": {
        "id": "MfnINkwQypiF"
      },
      "outputs": [],
      "source": [
        "# make variables view, grade, condition binarised\n",
        "hdf['view_b'] = hdf['view'] > 2\n",
        "hdf['view_b'] = hdf['view_b'].astype(int)\n",
        "hdf['condition_b'] = hdf['condition'] > 3\n",
        "hdf['condition_b'] = hdf['condition_b'].astype(int)\n",
        "hdf['grade_b'] = hdf['grade'] > 7\n",
        "hdf['grade_b'] = hdf['grade_b'].astype(int)\n",
        "\n",
        "# function to combine year built and year renovated into one binarised variable to see if house has been updated or created after 2000\n",
        "def label_new(row):\n",
        "    if row['yr_renovated'] > 2000 :\n",
        "        return '1'\n",
        "    elif row['yr_built'] > 2000 :\n",
        "        return '1'\n",
        "    else:\n",
        "        return '0'\n",
        "\n",
        "hdf['is_new_or_renovated'] = hdf.apply(lambda row: label_new(row), axis=1)\n",
        "hdf['is_new_or_renovated'] = hdf['is_new_or_renovated'].astype(int)\n",
        "\n",
        "# remove original unbinarised data columns\n",
        "hdf = hdf.drop(columns=['view','grade','condition','yr_built','yr_renovated'])\n",
        "\n",
        "# create a copy of the dataframe with price column removed\n",
        "price_pd = pd.DataFrame(hdf.copy().pop('price'))\n",
        "\n",
        "# BINARISE PRICE TO DETERMINE WHETHER PROPERTY IS UPPER VALUE OR LOWER VALUE\n",
        "price_pd['price_range'] = hdf['price'] > 540088.1418"
      ]
    },
    {
      "cell_type": "code",
      "execution_count": 24,
      "metadata": {
        "id": "5U8F7rY_yx5X"
      },
      "outputs": [],
      "source": [
        "# # dataframe copy for correlation matrix\n",
        "# hdf_corr = hdf.copy()\n",
        "\n",
        "# # create attributes axis for correlation matrix\n",
        "# columns = list(hdf_corr.columns)\n",
        "# y_col = columns.pop(0)\n",
        "# y = hdf_corr[y_col].to_numpy()\n",
        "# X = hdf_corr[columns].to_numpy()\n",
        "\n",
        "# scaler = MinMaxScaler()\n",
        "# hdf_corr[columns] = scaler.fit_transform(hdf_corr[columns])\n",
        "\n",
        "# # # remove price to see correlations between other attributes\n",
        "# # hdf_corr = hdf_corr.drop(['price'], axis=1)\n",
        "\n",
        "# # defines and creates initial correlation matrix\n",
        "# corrmat = hdf_corr.corr()\n",
        "# fig, ax = plt.subplots(figsize=[16,10])\n",
        "# sns.heatmap(corrmat,vmax=0.8, annot=True, linewidths=1, linecolor='white')\n",
        "# ax.set_xlabel('Features', fontsize = 20)    \n",
        "# ax.set_ylabel('Features', fontsize =20)\n",
        "# plt.title(\"Initial Dataset\", fontsize = 40)  \n",
        "# plt.setp(ax.get_xticklabels(), rotation=45, ha=\"right\", rotation_mode=\"anchor\") \n",
        "# plt.setp(ax.get_yticklabels(), rotation=-45, ha=\"right\", rotation_mode=\"anchor\")\n",
        "# plt.show()\n",
        "\n",
        "# # There is a high correlation between sqft_living and sqft_above (0.88) so it was removed to reduce skew\n",
        "# hdf_corr = hdf_corr.drop(['sqft_above'], axis=1)\n",
        "# # defines and creates final correlation matrix, where correlations of magnitude greate than 0.8 were removed\n",
        "# corrmat = hdf_corr.corr() \n",
        "# fig, ax = plt.subplots(figsize=[16,10])\n",
        "# sns.heatmap(corrmat,vmax=0.8, annot=True, linewidths=1, linecolor='white')\n",
        "# ax.set_xlabel('Features', fontsize = 20)    \n",
        "# ax.set_ylabel('Features', fontsize =20)\n",
        "# plt.title(\"Final Dataset\", fontsize = 40)  \n",
        "# plt.setp(ax.get_xticklabels(), rotation=45, ha=\"right\", rotation_mode=\"anchor\") \n",
        "# plt.setp(ax.get_yticklabels(), rotation=-45, ha=\"right\", rotation_mode=\"anchor\")\n",
        "# plt.show()\n",
        "\n",
        "# corrT = hdf_corr.corr(method = 'pearson').round(4)\n",
        "# # corrT = corrT.sort_values(by=['price'])\n",
        "# # corrT['price']\n",
        "\n",
        "# # print(hdf)"
      ]
    },
    {
      "cell_type": "code",
      "execution_count": 24,
      "metadata": {
        "id": "Es4IA0efYEl2"
      },
      "outputs": [],
      "source": [
        ""
      ]
    },
    {
      "cell_type": "code",
      "execution_count": 25,
      "metadata": {
        "id": "pQvgZllWNq6u"
      },
      "outputs": [],
      "source": [
        "# dataframe copy for preprocessing\n",
        "hdf_prepro = hdf.copy()\n",
        "# ADD BINARY PRICE VARIABLE\n",
        "hdf_prepro['Price Range'] = price_pd['price_range']\n",
        "# remove columns no longer needed\n",
        "hdf_prepro = hdf_prepro.drop(['sqft_above'], axis=1)\n",
        "hdf_prepro = hdf_prepro.drop(['price'], axis=1)"
      ]
    },
    {
      "cell_type": "code",
      "execution_count": 26,
      "metadata": {
        "colab": {
          "base_uri": "https://localhost:8080/"
        },
        "id": "3TdW62TTztS5",
        "outputId": "fadfb640-34d6-4f55-8921-5224240ca93d"
      },
      "outputs": [
        {
          "output_type": "execute_result",
          "data": {
            "text/plain": [
              "False    13694\n",
              "True      7919\n",
              "Name: Price Range, dtype: int64"
            ]
          },
          "metadata": {},
          "execution_count": 26
        }
      ],
      "source": [
        "hdf_prepro['Price Range'].value_counts()"
      ]
    },
    {
      "cell_type": "code",
      "execution_count": 27,
      "metadata": {
        "colab": {
          "base_uri": "https://localhost:8080/",
          "height": 266
        },
        "id": "4L3ZJT1uz1y7",
        "outputId": "284af0b9-4c86-4081-fef9-3ec58fd0962d"
      },
      "outputs": [
        {
          "output_type": "execute_result",
          "data": {
            "text/plain": [
              "<matplotlib.axes._subplots.AxesSubplot at 0x7ff1e8b07f10>"
            ]
          },
          "metadata": {},
          "execution_count": 27
        },
        {
          "output_type": "display_data",
          "data": {
            "text/plain": [
              "<Figure size 432x288 with 1 Axes>"
            ],
            "image/png": "[encoded data removed]"
          },
          "metadata": {}
        }
      ],
      "source": [
        "hdf_prepro['Price Range'].value_counts().plot.pie(autopct = '%.2f')"
      ]
    },
    {
      "cell_type": "code",
      "execution_count": 28,
      "metadata": {
        "id": "mSaOUfNjNq6v"
      },
      "outputs": [],
      "source": [
        "# create csv of processed data\n",
        "hdf_prepro.to_csv(\"KC_House_Processed_Data.csv\")"
      ]
    },
    {
      "cell_type": "code",
      "execution_count": 28,
      "metadata": {
        "id": "NBXXTEcoVqfY"
      },
      "outputs": [],
      "source": [
        ""
      ]
    },
    {
      "cell_type": "code",
      "execution_count": 29,
      "metadata": {
        "colab": {
          "base_uri": "https://localhost:8080/",
          "height": 270
        },
        "id": "9z3L-qRMysls",
        "outputId": "4b1ac286-a9f2-4328-d1f4-69cc2b323fef"
      },
      "outputs": [
        {
          "output_type": "execute_result",
          "data": {
            "text/plain": [
              "       bedrooms  bathrooms  sqft_living  sqft_lot  floors  sqft_basement  \\\n",
              "5268          3        1.0         1570      5510     1.0            500   \n",
              "16909         3        2.5         1780     11000     1.0            570   \n",
              "16123         3        1.5         1090      9862     1.0              0   \n",
              "12181         4        2.5         2210      7079     2.0              0   \n",
              "12617         3        2.5         1800      4763     2.0            560   \n",
              "\n",
              "           lat     long  sqft_living15  sqft_lot15  waterfront  view_b  \\\n",
              "5268   47.6942 -122.319           1770        6380           0       0   \n",
              "16909  47.5574 -122.149           2310        9700           0       0   \n",
              "16123  47.6256 -122.036           1710        9862           0       0   \n",
              "12181  47.4206 -122.183           1970        7000           0       0   \n",
              "12617  47.6460 -122.362           1790        4763           0       0   \n",
              "\n",
              "       condition_b  grade_b  is_new_or_renovated  \n",
              "5268             1        0                    0  \n",
              "16909            1        1                    0  \n",
              "16123            0        1                    0  \n",
              "12181            0        1                    0  \n",
              "12617            0        0                    0  "
            ],
            "text/html": [
              "\n",
              "  <div id=\"df-03a792ae-6a67-447e-b0a3-e9eeaed52447\">\n",
              "    <div class=\"colab-df-container\">\n",
              "      <div>\n",
              "<style scoped>\n",
              "    .dataframe tbody tr th:only-of-type {\n",
              "        vertical-align: middle;\n",
              "    }\n",
              "\n",
              "    .dataframe tbody tr th {\n",
              "        vertical-align: top;\n",
              "    }\n",
              "\n",
              "    .dataframe thead th {\n",
              "        text-align: right;\n",
              "    }\n",
              "</style>\n",
              "<table border=\"1\" class=\"dataframe\">\n",
              "  <thead>\n",
              "    <tr style=\"text-align: right;\">\n",
              "      <th></th>\n",
              "      <th>bedrooms</th>\n",
              "      <th>bathrooms</th>\n",
              "      <th>sqft_living</th>\n",
              "      <th>sqft_lot</th>\n",
              "      <th>floors</th>\n",
              "      <th>sqft_basement</th>\n",
              "      <th>lat</th>\n",
              "      <th>long</th>\n",
              "      <th>sqft_living15</th>\n",
              "      <th>sqft_lot15</th>\n",
              "      <th>waterfront</th>\n",
              "      <th>view_b</th>\n",
              "      <th>condition_b</th>\n",
              "      <th>grade_b</th>\n",
              "      <th>is_new_or_renovated</th>\n",
              "    </tr>\n",
              "  </thead>\n",
              "  <tbody>\n",
              "    <tr>\n",
              "      <th>5268</th>\n",
              "      <td>3</td>\n",
              "      <td>1.0</td>\n",
              "      <td>1570</td>\n",
              "      <td>5510</td>\n",
              "      <td>1.0</td>\n",
              "      <td>500</td>\n",
              "      <td>47.6942</td>\n",
              "      <td>-122.319</td>\n",
              "      <td>1770</td>\n",
              "      <td>6380</td>\n",
              "      <td>0</td>\n",
              "      <td>0</td>\n",
              "      <td>1</td>\n",
              "      <td>0</td>\n",
              "      <td>0</td>\n",
              "    </tr>\n",
              "    <tr>\n",
              "      <th>16909</th>\n",
              "      <td>3</td>\n",
              "      <td>2.5</td>\n",
              "      <td>1780</td>\n",
              "      <td>11000</td>\n",
              "      <td>1.0</td>\n",
              "      <td>570</td>\n",
              "      <td>47.5574</td>\n",
              "      <td>-122.149</td>\n",
              "      <td>2310</td>\n",
              "      <td>9700</td>\n",
              "      <td>0</td>\n",
              "      <td>0</td>\n",
              "      <td>1</td>\n",
              "      <td>1</td>\n",
              "      <td>0</td>\n",
              "    </tr>\n",
              "    <tr>\n",
              "      <th>16123</th>\n",
              "      <td>3</td>\n",
              "      <td>1.5</td>\n",
              "      <td>1090</td>\n",
              "      <td>9862</td>\n",
              "      <td>1.0</td>\n",
              "      <td>0</td>\n",
              "      <td>47.6256</td>\n",
              "      <td>-122.036</td>\n",
              "      <td>1710</td>\n",
              "      <td>9862</td>\n",
              "      <td>0</td>\n",
              "      <td>0</td>\n",
              "      <td>0</td>\n",
              "      <td>1</td>\n",
              "      <td>0</td>\n",
              "    </tr>\n",
              "    <tr>\n",
              "      <th>12181</th>\n",
              "      <td>4</td>\n",
              "      <td>2.5</td>\n",
              "      <td>2210</td>\n",
              "      <td>7079</td>\n",
              "      <td>2.0</td>\n",
              "      <td>0</td>\n",
              "      <td>47.4206</td>\n",
              "      <td>-122.183</td>\n",
              "      <td>1970</td>\n",
              "      <td>7000</td>\n",
              "      <td>0</td>\n",
              "      <td>0</td>\n",
              "      <td>0</td>\n",
              "      <td>1</td>\n",
              "      <td>0</td>\n",
              "    </tr>\n",
              "    <tr>\n",
              "      <th>12617</th>\n",
              "      <td>3</td>\n",
              "      <td>2.5</td>\n",
              "      <td>1800</td>\n",
              "      <td>4763</td>\n",
              "      <td>2.0</td>\n",
              "      <td>560</td>\n",
              "      <td>47.6460</td>\n",
              "      <td>-122.362</td>\n",
              "      <td>1790</td>\n",
              "      <td>4763</td>\n",
              "      <td>0</td>\n",
              "      <td>0</td>\n",
              "      <td>0</td>\n",
              "      <td>0</td>\n",
              "      <td>0</td>\n",
              "    </tr>\n",
              "  </tbody>\n",
              "</table>\n",
              "</div>\n",
              "      <button class=\"colab-df-convert\" onclick=\"convertToInteractive('df-03a792ae-6a67-447e-b0a3-e9eeaed52447')\"\n",
              "              title=\"Convert this dataframe to an interactive table.\"\n",
              "              style=\"display:none;\">\n",
              "        \n",
              "  <svg xmlns=\"http://www.w3.org/2000/svg\" height=\"24px\"viewBox=\"0 0 24 24\"\n",
              "       width=\"24px\">\n",
              "    <path d=\"M0 0h24v24H0V0z\" fill=\"none\"/>\n",
              "    <path d=\"M18.56 5.44l.94 2.06.94-2.06 2.06-.94-2.06-.94-.94-2.06-.94 2.06-2.06.94zm-11 1L8.5 8.5l.94-2.06 2.06-.94-2.06-.94L8.5 2.5l-.94 2.06-2.06.94zm10 10l.94 2.06.94-2.06 2.06-.94-2.06-.94-.94-2.06-.94 2.06-2.06.94z\"/><path d=\"M17.41 7.96l-1.37-1.37c-.4-.4-.92-.59-1.43-.59-.52 0-1.04.2-1.43.59L10.3 9.45l-7.72 7.72c-.78.78-.78 2.05 0 2.83L4 21.41c.39.39.9.59 1.41.59.51 0 1.02-.2 1.41-.59l7.78-7.78 2.81-2.81c.8-.78.8-2.07 0-2.86zM5.41 20L4 18.59l7.72-7.72 1.47 1.35L5.41 20z\"/>\n",
              "  </svg>\n",
              "      </button>\n",
              "      \n",
              "  <style>\n",
              "    .colab-df-container {\n",
              "      display:flex;\n",
              "      flex-wrap:wrap;\n",
              "      gap: 12px;\n",
              "    }\n",
              "\n",
              "    .colab-df-convert {\n",
              "      background-color: #E8F0FE;\n",
              "      border: none;\n",
              "      border-radius: 50%;\n",
              "      cursor: pointer;\n",
              "      display: none;\n",
              "      fill: #1967D2;\n",
              "      height: 32px;\n",
              "      padding: 0 0 0 0;\n",
              "      width: 32px;\n",
              "    }\n",
              "\n",
              "    .colab-df-convert:hover {\n",
              "      background-color: #E2EBFA;\n",
              "      box-shadow: 0px 1px 2px rgba(60, 64, 67, 0.3), 0px 1px 3px 1px rgba(60, 64, 67, 0.15);\n",
              "      fill: #174EA6;\n",
              "    }\n",
              "\n",
              "    [theme=dark] .colab-df-convert {\n",
              "      background-color: #3B4455;\n",
              "      fill: #D2E3FC;\n",
              "    }\n",
              "\n",
              "    [theme=dark] .colab-df-convert:hover {\n",
              "      background-color: #434B5C;\n",
              "      box-shadow: 0px 1px 3px 1px rgba(0, 0, 0, 0.15);\n",
              "      filter: drop-shadow(0px 1px 2px rgba(0, 0, 0, 0.3));\n",
              "      fill: #FFFFFF;\n",
              "    }\n",
              "  </style>\n",
              "\n",
              "      <script>\n",
              "        const buttonEl =\n",
              "          document.querySelector('#df-03a792ae-6a67-447e-b0a3-e9eeaed52447 button.colab-df-convert');\n",
              "        buttonEl.style.display =\n",
              "          google.colab.kernel.accessAllowed ? 'block' : 'none';\n",
              "\n",
              "        async function convertToInteractive(key) {\n",
              "          const element = document.querySelector('#df-03a792ae-6a67-447e-b0a3-e9eeaed52447');\n",
              "          const dataTable =\n",
              "            await google.colab.kernel.invokeFunction('convertToInteractive',\n",
              "                                                     [key], {});\n",
              "          if (!dataTable) return;\n",
              "\n",
              "          const docLinkHtml = 'Like what you see? Visit the ' +\n",
              "            '<a target=\"_blank\" href=https://colab.research.google.com/notebooks/data_table.ipynb>data table notebook</a>'\n",
              "            + ' to learn more about interactive tables.';\n",
              "          element.innerHTML = '';\n",
              "          dataTable['output_type'] = 'display_data';\n",
              "          await google.colab.output.renderOutput(dataTable, element);\n",
              "          const docLink = document.createElement('div');\n",
              "          docLink.innerHTML = docLinkHtml;\n",
              "          element.appendChild(docLink);\n",
              "        }\n",
              "      </script>\n",
              "    </div>\n",
              "  </div>\n",
              "  "
            ]
          },
          "metadata": {},
          "execution_count": 29
        }
      ],
      "source": [
        "# creates training, validation, and test sets with 80/10/10\n",
        "train, other = train_test_split(hdf_prepro, test_size=0.2, random_state=0)\n",
        "validation, test = train_test_split(other, test_size=0.5, random_state=0)\n",
        "\n",
        "# X sets include all attributes except price range, y sets are just price range\n",
        "X_train = train.drop(['Price Range'], axis = 1)\n",
        "y_train = train['Price Range']\n",
        "X_val = validation.drop(['Price Range'], axis = 1)\n",
        "y_val = validation['Price Range']\n",
        "X_test = test.drop(['Price Range'], axis = 1)\n",
        "y_test = test['Price Range']\n",
        "X_train.head()"
      ]
    },
    {
      "cell_type": "code",
      "execution_count": 29,
      "metadata": {
        "id": "mxPo809GXTCD"
      },
      "outputs": [],
      "source": [
        ""
      ]
    },
    {
      "cell_type": "code",
      "execution_count": 30,
      "metadata": {
        "colab": {
          "base_uri": "https://localhost:8080/",
          "height": 270
        },
        "id": "DdjbBZ17ywHc",
        "outputId": "d2c8c5a9-4061-4c8a-89ff-845afaa1bc1d"
      },
      "outputs": [
        {
          "output_type": "execute_result",
          "data": {
            "text/plain": [
              "       bedrooms  bathrooms  sqft_living  sqft_lot    floors  sqft_basement  \\\n",
              "5268  -0.390023  -1.448095    -0.553934 -0.230230 -0.917914       0.466341   \n",
              "16909 -0.390023   0.494282    -0.326475 -0.100351 -0.917914       0.624130   \n",
              "16123 -0.390023  -0.800636    -1.073840 -0.127273 -0.917914      -0.660724   \n",
              "12181  0.670275   0.494282     0.139273 -0.193112  0.925056      -0.660724   \n",
              "12617 -0.390023   0.494282    -0.304813 -0.247902  0.925056       0.601588   \n",
              "\n",
              "            lat      long  sqft_living15  sqft_lot15  waterfront    view_b  \\\n",
              "5268   0.964830 -0.744673      -0.316901   -0.232451   -0.090673 -0.200307   \n",
              "16909 -0.022009  0.463181       0.469978   -0.112885   -0.090673 -0.200307   \n",
              "16123  0.469968  1.266049      -0.404332   -0.107050   -0.090673 -0.200307   \n",
              "12181 -1.008849  0.221611      -0.025464   -0.210123   -0.090673 -0.200307   \n",
              "12617  0.617128 -1.050189      -0.287757   -0.290686   -0.090673 -0.200307   \n",
              "\n",
              "       condition_b   grade_b  is_new_or_renovated  \n",
              "5268      1.395306 -0.961610            -0.549848  \n",
              "16909     1.395306  1.039863            -0.549848  \n",
              "16123    -0.716647  1.039863            -0.549848  \n",
              "12181    -0.716647  1.039863            -0.549848  \n",
              "12617    -0.716647 -0.961610            -0.549848  "
            ],
            "text/html": [
              "\n",
              "  <div id=\"df-7a6a1129-5107-4ce4-9f46-239307627bd3\">\n",
              "    <div class=\"colab-df-container\">\n",
              "      <div>\n",
              "<style scoped>\n",
              "    .dataframe tbody tr th:only-of-type {\n",
              "        vertical-align: middle;\n",
              "    }\n",
              "\n",
              "    .dataframe tbody tr th {\n",
              "        vertical-align: top;\n",
              "    }\n",
              "\n",
              "    .dataframe thead th {\n",
              "        text-align: right;\n",
              "    }\n",
              "</style>\n",
              "<table border=\"1\" class=\"dataframe\">\n",
              "  <thead>\n",
              "    <tr style=\"text-align: right;\">\n",
              "      <th></th>\n",
              "      <th>bedrooms</th>\n",
              "      <th>bathrooms</th>\n",
              "      <th>sqft_living</th>\n",
              "      <th>sqft_lot</th>\n",
              "      <th>floors</th>\n",
              "      <th>sqft_basement</th>\n",
              "      <th>lat</th>\n",
              "      <th>long</th>\n",
              "      <th>sqft_living15</th>\n",
              "      <th>sqft_lot15</th>\n",
              "      <th>waterfront</th>\n",
              "      <th>view_b</th>\n",
              "      <th>condition_b</th>\n",
              "      <th>grade_b</th>\n",
              "      <th>is_new_or_renovated</th>\n",
              "    </tr>\n",
              "  </thead>\n",
              "  <tbody>\n",
              "    <tr>\n",
              "      <th>5268</th>\n",
              "      <td>-0.390023</td>\n",
              "      <td>-1.448095</td>\n",
              "      <td>-0.553934</td>\n",
              "      <td>-0.230230</td>\n",
              "      <td>-0.917914</td>\n",
              "      <td>0.466341</td>\n",
              "      <td>0.964830</td>\n",
              "      <td>-0.744673</td>\n",
              "      <td>-0.316901</td>\n",
              "      <td>-0.232451</td>\n",
              "      <td>-0.090673</td>\n",
              "      <td>-0.200307</td>\n",
              "      <td>1.395306</td>\n",
              "      <td>-0.961610</td>\n",
              "      <td>-0.549848</td>\n",
              "    </tr>\n",
              "    <tr>\n",
              "      <th>16909</th>\n",
              "      <td>-0.390023</td>\n",
              "      <td>0.494282</td>\n",
              "      <td>-0.326475</td>\n",
              "      <td>-0.100351</td>\n",
              "      <td>-0.917914</td>\n",
              "      <td>0.624130</td>\n",
              "      <td>-0.022009</td>\n",
              "      <td>0.463181</td>\n",
              "      <td>0.469978</td>\n",
              "      <td>-0.112885</td>\n",
              "      <td>-0.090673</td>\n",
              "      <td>-0.200307</td>\n",
              "      <td>1.395306</td>\n",
              "      <td>1.039863</td>\n",
              "      <td>-0.549848</td>\n",
              "    </tr>\n",
              "    <tr>\n",
              "      <th>16123</th>\n",
              "      <td>-0.390023</td>\n",
              "      <td>-0.800636</td>\n",
              "      <td>-1.073840</td>\n",
              "      <td>-0.127273</td>\n",
              "      <td>-0.917914</td>\n",
              "      <td>-0.660724</td>\n",
              "      <td>0.469968</td>\n",
              "      <td>1.266049</td>\n",
              "      <td>-0.404332</td>\n",
              "      <td>-0.107050</td>\n",
              "      <td>-0.090673</td>\n",
              "      <td>-0.200307</td>\n",
              "      <td>-0.716647</td>\n",
              "      <td>1.039863</td>\n",
              "      <td>-0.549848</td>\n",
              "    </tr>\n",
              "    <tr>\n",
              "      <th>12181</th>\n",
              "      <td>0.670275</td>\n",
              "      <td>0.494282</td>\n",
              "      <td>0.139273</td>\n",
              "      <td>-0.193112</td>\n",
              "      <td>0.925056</td>\n",
              "      <td>-0.660724</td>\n",
              "      <td>-1.008849</td>\n",
              "      <td>0.221611</td>\n",
              "      <td>-0.025464</td>\n",
              "      <td>-0.210123</td>\n",
              "      <td>-0.090673</td>\n",
              "      <td>-0.200307</td>\n",
              "      <td>-0.716647</td>\n",
              "      <td>1.039863</td>\n",
              "      <td>-0.549848</td>\n",
              "    </tr>\n",
              "    <tr>\n",
              "      <th>12617</th>\n",
              "      <td>-0.390023</td>\n",
              "      <td>0.494282</td>\n",
              "      <td>-0.304813</td>\n",
              "      <td>-0.247902</td>\n",
              "      <td>0.925056</td>\n",
              "      <td>0.601588</td>\n",
              "      <td>0.617128</td>\n",
              "      <td>-1.050189</td>\n",
              "      <td>-0.287757</td>\n",
              "      <td>-0.290686</td>\n",
              "      <td>-0.090673</td>\n",
              "      <td>-0.200307</td>\n",
              "      <td>-0.716647</td>\n",
              "      <td>-0.961610</td>\n",
              "      <td>-0.549848</td>\n",
              "    </tr>\n",
              "  </tbody>\n",
              "</table>\n",
              "</div>\n",
              "      <button class=\"colab-df-convert\" onclick=\"convertToInteractive('df-7a6a1129-5107-4ce4-9f46-239307627bd3')\"\n",
              "              title=\"Convert this dataframe to an interactive table.\"\n",
              "              style=\"display:none;\">\n",
              "        \n",
              "  <svg xmlns=\"http://www.w3.org/2000/svg\" height=\"24px\"viewBox=\"0 0 24 24\"\n",
              "       width=\"24px\">\n",
              "    <path d=\"M0 0h24v24H0V0z\" fill=\"none\"/>\n",
              "    <path d=\"M18.56 5.44l.94 2.06.94-2.06 2.06-.94-2.06-.94-.94-2.06-.94 2.06-2.06.94zm-11 1L8.5 8.5l.94-2.06 2.06-.94-2.06-.94L8.5 2.5l-.94 2.06-2.06.94zm10 10l.94 2.06.94-2.06 2.06-.94-2.06-.94-.94-2.06-.94 2.06-2.06.94z\"/><path d=\"M17.41 7.96l-1.37-1.37c-.4-.4-.92-.59-1.43-.59-.52 0-1.04.2-1.43.59L10.3 9.45l-7.72 7.72c-.78.78-.78 2.05 0 2.83L4 21.41c.39.39.9.59 1.41.59.51 0 1.02-.2 1.41-.59l7.78-7.78 2.81-2.81c.8-.78.8-2.07 0-2.86zM5.41 20L4 18.59l7.72-7.72 1.47 1.35L5.41 20z\"/>\n",
              "  </svg>\n",
              "      </button>\n",
              "      \n",
              "  <style>\n",
              "    .colab-df-container {\n",
              "      display:flex;\n",
              "      flex-wrap:wrap;\n",
              "      gap: 12px;\n",
              "    }\n",
              "\n",
              "    .colab-df-convert {\n",
              "      background-color: #E8F0FE;\n",
              "      border: none;\n",
              "      border-radius: 50%;\n",
              "      cursor: pointer;\n",
              "      display: none;\n",
              "      fill: #1967D2;\n",
              "      height: 32px;\n",
              "      padding: 0 0 0 0;\n",
              "      width: 32px;\n",
              "    }\n",
              "\n",
              "    .colab-df-convert:hover {\n",
              "      background-color: #E2EBFA;\n",
              "      box-shadow: 0px 1px 2px rgba(60, 64, 67, 0.3), 0px 1px 3px 1px rgba(60, 64, 67, 0.15);\n",
              "      fill: #174EA6;\n",
              "    }\n",
              "\n",
              "    [theme=dark] .colab-df-convert {\n",
              "      background-color: #3B4455;\n",
              "      fill: #D2E3FC;\n",
              "    }\n",
              "\n",
              "    [theme=dark] .colab-df-convert:hover {\n",
              "      background-color: #434B5C;\n",
              "      box-shadow: 0px 1px 3px 1px rgba(0, 0, 0, 0.15);\n",
              "      filter: drop-shadow(0px 1px 2px rgba(0, 0, 0, 0.3));\n",
              "      fill: #FFFFFF;\n",
              "    }\n",
              "  </style>\n",
              "\n",
              "      <script>\n",
              "        const buttonEl =\n",
              "          document.querySelector('#df-7a6a1129-5107-4ce4-9f46-239307627bd3 button.colab-df-convert');\n",
              "        buttonEl.style.display =\n",
              "          google.colab.kernel.accessAllowed ? 'block' : 'none';\n",
              "\n",
              "        async function convertToInteractive(key) {\n",
              "          const element = document.querySelector('#df-7a6a1129-5107-4ce4-9f46-239307627bd3');\n",
              "          const dataTable =\n",
              "            await google.colab.kernel.invokeFunction('convertToInteractive',\n",
              "                                                     [key], {});\n",
              "          if (!dataTable) return;\n",
              "\n",
              "          const docLinkHtml = 'Like what you see? Visit the ' +\n",
              "            '<a target=\"_blank\" href=https://colab.research.google.com/notebooks/data_table.ipynb>data table notebook</a>'\n",
              "            + ' to learn more about interactive tables.';\n",
              "          element.innerHTML = '';\n",
              "          dataTable['output_type'] = 'display_data';\n",
              "          await google.colab.output.renderOutput(dataTable, element);\n",
              "          const docLink = document.createElement('div');\n",
              "          docLink.innerHTML = docLinkHtml;\n",
              "          element.appendChild(docLink);\n",
              "        }\n",
              "      </script>\n",
              "    </div>\n",
              "  </div>\n",
              "  "
            ]
          },
          "metadata": {},
          "execution_count": 30
        }
      ],
      "source": [
        "# standardising (normalising) the data so that the mean=0 and std=1, helps to balance data along with the previous binarisation of some features\n",
        "means = X_train.mean(axis=0)\n",
        "stds = X_train.std(axis=0) \n",
        "\n",
        "X_train_standardised = (X_train - means) / stds\n",
        "X_val_standardised = (X_val - means) / stds\n",
        "X_test_standardised = (X_test - means) / stds\n",
        "\n",
        "X_train_standardised.head()"
      ]
    },
    {
      "cell_type": "code",
      "execution_count": 31,
      "metadata": {
        "id": "5xDPLhc9YNvE"
      },
      "outputs": [],
      "source": [
        "from sklearn.svm import SVC\n",
        "\n",
        "# BINARISE PRICE TO DETERMINE WHETHER PROPERTY IS UPPER VALUE OR LOWER VALUE\n",
        "\n",
        "price_pd['price_range'] = hdf['price'] > 540088.1418\n",
        "\n",
        "# DROPPING COLUMNS THAT ARE NOT BEING USED\n",
        "\n",
        "X_train_standardised = X_train_standardised.drop(['bedrooms', 'bathrooms', 'sqft_lot', 'floors', 'sqft_basement','lat','long','sqft_living15', 'sqft_lot15'], axis = 1)\n",
        "X_val_standardised = X_val_standardised.drop(['bedrooms', 'bathrooms', 'sqft_lot', 'floors', 'sqft_basement','lat','long','sqft_living15', 'sqft_lot15'], axis = 1)\n",
        "X_test_standardised = X_test_standardised.drop(['bedrooms', 'bathrooms', 'sqft_lot', 'floors', 'sqft_basement','lat','long','sqft_living15', 'sqft_lot15'], axis = 1)"
      ]
    },
    {
      "cell_type": "code",
      "execution_count": null,
      "metadata": {
        "id": "3jBc6Dvpqfi2"
      },
      "outputs": [],
      "source": [
        "# CHECKPOINT\n",
        "\n",
        "print(X_train_standardised)\n",
        "print(y_train)"
      ]
    },
    {
      "cell_type": "code",
      "execution_count": 15,
      "metadata": {
        "id": "Gj6V7WvGFzfv"
      },
      "outputs": [],
      "source": [
        "# DEFINING VALIDATION, TRAINING, AND TESTING FUNCTIONS\n",
        "\n",
        "def acc_val(c,k,g):\n",
        "  model = SVC(C=c, kernel=k, gamma=g)\n",
        "  model = model.fit(X_train_standardised, y_train)\n",
        "  return accuracy_score(y_val, model.predict(X_val_standardised))\n",
        "def prec_val(c,k,g):\n",
        "  model = SVC(C=c, kernel=k, gamma=g)\n",
        "  model = model.fit(X_train_standardised, y_train)\n",
        "  return precision_score(y_val, model.predict(X_val_standardised))\n",
        "def rec_val(c,k,g):\n",
        "  model = SVC(C=c, kernel=k, gamma=g)\n",
        "  model = model.fit(X_train_standardised, y_train)\n",
        "  return recall_score(y_val, model.predict(X_val_standardised))\n",
        "def acc_train(c,k,g):\n",
        "  model = SVC(C=c, kernel=k, gamma=g)\n",
        "  model = model.fit(X_train_standardised, y_train)\n",
        "  return accuracy_score(y_train, model.predict(X_train_standardised))\n",
        "def prec_train(c,k,g):\n",
        "  model = SVC(C=c, kernel=k, gamma=g)\n",
        "  model = model.fit(X_train_standardised, y_train)\n",
        "  return precision_score(y_train, model.predict(X_train_standardised))\n",
        "def rec_train(c,k,g):\n",
        "  model = SVC(C=c, kernel=k, gamma=g)\n",
        "  model = model.fit(X_train_standardised, y_train)\n",
        "  return recall_score(y_train, model.predict(X_train_standardised))\n",
        "def acc_test(c,k,g):\n",
        "  model = SVC(C=c, kernel=k, gamma=g)\n",
        "  model = model.fit(X_train_standardised, y_train)\n",
        "  return accuracy_score(y_test, model.predict(X_test_standardised))\n",
        "def prec_test(c,k,g):\n",
        "  model = SVC(C=c, kernel=k, gamma=g)\n",
        "  model = model.fit(X_train_standardised, y_train)\n",
        "  return precision_score(y_test, model.predict(X_test_standardised))\n",
        "def rec_test(c,k,g):\n",
        "  model = SVC(C=c, kernel=k, gamma=g)\n",
        "  model = model.fit(X_train_standardised, y_train)\n",
        "  return recall_score(y_test, model.predict(X_test_standardised))"
      ]
    },
    {
      "cell_type": "code",
      "execution_count": null,
      "metadata": {
        "id": "tvAA0AmZtWYo"
      },
      "outputs": [],
      "source": [
        "# SET VARIABLES FOR TEST\n",
        "\n",
        "kernel_type = ['linear', 'poly', 'rbf', 'sigmoid']\n",
        "acc_value = []\n",
        "pre_value = []\n",
        "rec_value = []\n",
        "acc_testing = []\n",
        "pre_testing = []\n",
        "rec_testing = []\n",
        "\n",
        "# RUN TEST WITH VARYING KERNEL TYPES\n",
        "\n",
        "for i in range(len(kernel_type)):\n",
        "  K = kernel_type[i]\n",
        "  print('testing with kernel as {}'.format(K))\n",
        "  SVM3 = SVC(C = 2.5, kernel = K, gamma = 'scale')\n",
        "  SVM3 = SVM3.fit(X_train_standardised, y_train)\n",
        "  ypred_val = SVM3.predict(X_val_standardised)\n",
        "  ypred_test = SVM3.predict(X_test_standardised)\n",
        "  acc_value.append(accuracy_score(y_val, ypred_val)) \n",
        "  pre_value.append(precision_score(y_val, ypred_val))\n",
        "  rec_value.append(recall_score(y_val, ypred_val))\n",
        "  acc_testing.append(accuracy_score(y_test, ypred_test)) \n",
        "  pre_testing.append(precision_score(y_test, ypred_test))\n",
        "  rec_testing.append(recall_score(y_test, ypred_test))\n",
        "\n",
        "# DISPLAY ACCURACY PLOT\n",
        "\n",
        "plt.plot(kernel_type, acc_value, label='Validation') \n",
        "plt.plot(kernel_type, acc_testing, label='Training') \n",
        "plt.legend()\n",
        "plt.title('Accuracy Score vs Kernel Type')\n",
        "plt.xlabel('Kernel') \n",
        "plt.ylabel('Accuracy') \n",
        "plt.savefig('Accuracy Score vs Kernel Type')\n",
        "plt.show()\n",
        "\n",
        "# DISPLAY PRECISION PLOT\n",
        "\n",
        "plt.plot(kernel_type, pre_value, label='Validation') \n",
        "plt.plot(kernel_type, pre_testing, label='Training') \n",
        "plt.legend()\n",
        "plt.title('Precision Score vs Kernel Type')\n",
        "plt.xlabel('Kernel') \n",
        "plt.ylabel('Precision') \n",
        "plt.savefig('Precision Score vs Kernel Type')\n",
        "plt.show()\n",
        "\n",
        "# DISPLAY RECALL PLOT\n",
        "\n",
        "plt.plot(kernel_type, rec_value, label='Validation') \n",
        "plt.plot(kernel_type, rec_testing, label='Training') \n",
        "plt.legend()\n",
        "plt.title('Recall Score vs Kernel Type')\n",
        "plt.xlabel('Kernel') \n",
        "plt.ylabel('Recall') \n",
        "plt.savefig('Recall Score vs Kernel Type')\n",
        "plt.show()"
      ]
    },
    {
      "cell_type": "code",
      "execution_count": null,
      "metadata": {
        "id": "MfE0lVW-_yOa"
      },
      "outputs": [],
      "source": [
        "dfacc = pd.DataFrame()\n",
        "for n in np.linspace(250, 3500, 25):\n",
        "  dfacc[\"{}\".format(n/1000)] = [acc_val(n/1000,'linear','scale'), acc_test(n/1000,'linear','scale')]\n",
        "dfacc = dfacc.T   # tranpose \n",
        "dfacc.plot()      # plot graph\n",
        "plt.title('Accuracy Scores vs C-Values')  # plot graph\n",
        "plt.xlabel('C-Values')\n",
        "plt.ylabel('Accuracy')\n",
        "plt.show()\n",
        " \n",
        "dfprec = pd.DataFrame()\n",
        "for n in np.linspace(250, 3500, 25):\n",
        "  dfprec[\"{}\".format(n/1000)] = [prec_val(n/1000,'linear','scale'), prec_test(n/1000,'linear','scale')]  \n",
        "dfprec = dfprec.T\n",
        "dfprec.plot()\n",
        "plt.title('Precision Scores vs C-Values')\n",
        "plt.xlabel('C-Values')\n",
        "plt.ylabel('Precision')\n",
        "plt.show()\n",
        "  \n",
        "dfrec = pd.DataFrame()\n",
        "for n in np.linspace(250, 3000, 25):\n",
        "  dfrec[\"{}\".format(n/1000)] = [rec_val(n/1000,'linear','scale'), rec_test(n/1000,'linear','scale')]  \n",
        "dfrec = dfrec.T\n",
        "dfrec.plot()\n",
        "plt.title('Recall Scores vs C-Values')\n",
        "plt.xlabel('C-Values')\n",
        "plt.ylabel('Recall')\n",
        "plt.show()\n"
      ]
    },
    {
      "cell_type": "code",
      "execution_count": 18,
      "metadata": {
        "id": "ELJeglt6t38U",
        "colab": {
          "base_uri": "https://localhost:8080/",
          "height": 809
        },
        "outputId": "8c077aae-4441-4e83-fb19-d9b5d694f1b4"
      },
      "outputs": [
        {
          "output_type": "display_data",
          "data": {
            "text/plain": [
              "<Figure size 432x288 with 1 Axes>"
            ],
            "image/png": "[encoded data removed]"
          },
          "metadata": {
            "needs_background": "light"
          }
        },
        {
          "output_type": "display_data",
          "data": {
            "text/plain": [
              "<Figure size 432x288 with 1 Axes>"
            ],
            "image/png": "[encoded data removed]"
          },
          "metadata": {
            "needs_background": "light"
          }
        },
        {
          "output_type": "display_data",
          "data": {
            "text/plain": [
              "<Figure size 432x288 with 1 Axes>"
            ],
            "image/png": "[encoded data removed]"
          },
          "metadata": {
            "needs_background": "light"
          }
        }
      ],
      "source": [
        "# RUN TEST WITH VARYING C-VALUES\n",
        "\n",
        "acc1 = pd.DataFrame()\n",
        "for n in np.linspace(1000, 3500, 25):\n",
        "  acc1[\"{}\".format(n/1000)] = [acc_val(n/1000,'rbf','scale'), acc_test(n/1000,'rbf','scale')] \n",
        "acc1 = acc1.T\n",
        "acc1.plot()\n",
        "plt.title('Accuracy Scores vs C-values')\n",
        "plt.show()\n",
        " \n",
        "prec1 = pd.DataFrame()\n",
        "for n in np.linspace(1000, 3500, 25):\n",
        "  prec1[\"{}\".format(n/1000)] = [prec_val(n/1000,'rbf','scale'), prec_test(n/1000,'rbf','scale')]\n",
        "prec1 = prec1.T\n",
        "# prec1.plot(label = ['Validation', 'Training'])\n",
        "prec1.plot()\n",
        "plt.title('Precision Scores vs C-values')\n",
        "plt.show()\n",
        " \n",
        "rec1 = pd.DataFrame()\n",
        "for n in np.linspace(1000, 3500, 25):\n",
        "  rec1[\"{}\".format(n/1000)] = [rec_val(n/1000,'rbf','scale'), rec_test(n/1000,'rbf','scale')]\n",
        "rec1 = rec1.T\n",
        "rec1.plot()\n",
        "plt.title('Recall Scores vs C-values')\n",
        "plt.show()"
      ]
    },
    {
      "cell_type": "code",
      "source": [
        "model = SVC(C=2.7, kernel='linear', gamma='scale')\n",
        "model = model.fit(X_train_standardised, y_train)\n",
        "print('Accuracy_Val: {}'.format(accuracy_score(y_val, model.predict(X_val_standardised))))\n",
        "print('Precision Val: {}'.format(precision_score(y_val, model.predict(X_val_standardised))))\n",
        "print('Recall Val: {}'.format(recall_score(y_val, model.predict(X_val_standardised))))\n",
        "print('Accuracy Train: {}'.format(accuracy_score(y_train, model.predict(X_train_standardised))))\n",
        "print('Precision Train: {}'.format(precision_score(y_train, model.predict(X_train_standardised))))\n",
        "print('Recall Train: {}'.format(recall_score(y_train, model.predict(X_train_standardised))))\n",
        "print('Accuracy Test: {}'.format(accuracy_score(y_test, model.predict(X_test_standardised))))\n",
        "print('Precision Test: {}'.format(precision_score(y_test, model.predict(X_test_standardised))))\n",
        "print('Recall Test: {}'.format(recall_score(y_test, model.predict(X_test_standardised))))"
      ],
      "metadata": {
        "id": "LjrlYsgYZ5xu"
      },
      "execution_count": null,
      "outputs": []
    }
  ],
  "metadata": {
    "colab": {
      "collapsed_sections": [],
      "name": "AP5_SupportVectorMachine.ipynb",
      "provenance": [],
      "include_colab_link": true
    },
    "kernelspec": {
      "display_name": "Python 3 (ipykernel)",
      "language": "python",
      "name": "python3"
    },
    "language_info": {
      "codemirror_mode": {
        "name": "ipython",
        "version": 3
      },
      "file_extension": ".py",
      "mimetype": "text/x-python",
      "name": "python",
      "nbconvert_exporter": "python",
      "pygments_lexer": "ipython3",
      "version": "3.9.12"
    },
    "vscode": {
      "interpreter": {
        "hash": "01331f668b84c0ca0fe55add21350d1c596e96dabd029d510e83ca7d89311a41"
      }
    }
  },
  "nbformat": 4,
  "nbformat_minor": 0
}